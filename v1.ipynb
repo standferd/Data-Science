{
    "cells": [
        {
            "cell_type": "markdown",
            "metadata": {
                "collapsed": true,
                "id": "1a790e98-bb8f-4da9-9cea-b7edff39cf04",
                "jupyter": {
                    "outputs_hidden": true
                }
            },
            "source": "# This program prints Hello, World!"
        },
        {
            "cell_type": "code",
            "execution_count": 1,
            "metadata": {
                "id": "9506860e-4d98-49fc-9313-b29e15b09a5e"
            },
            "outputs": [
                {
                    "name": "stdout",
                    "output_type": "stream",
                    "text": "Hello, World!\n"
                }
            ],
            "source": "print('Hello, World!')"
        },
        {
            "cell_type": "markdown",
            "metadata": {
                "id": "26037146-c24e-44cf-b111-b7882dcdbf3f"
            },
            "source": "# Author"
        },
        {
            "cell_type": "markdown",
            "metadata": {
                "id": "880d6773-131a-4847-9028-3b2a247505ec"
            },
            "source": "Aditya Utkarsh Sinha"
        },
        {
            "cell_type": "code",
            "execution_count": null,
            "metadata": {
                "id": "786a40f7-187e-4c29-b8ec-4fddf8c78d0c"
            },
            "outputs": [],
            "source": ""
        }
    ],
    "metadata": {
        "kernelspec": {
            "display_name": "Python 3.11",
            "language": "python",
            "name": "python3"
        },
        "language_info": {
            "codemirror_mode": {
                "name": "ipython",
                "version": 3
            },
            "file_extension": ".py",
            "mimetype": "text/x-python",
            "name": "python",
            "nbconvert_exporter": "python",
            "pygments_lexer": "ipython3",
            "version": "3.11.9"
        }
    },
    "nbformat": 4,
    "nbformat_minor": 4
}